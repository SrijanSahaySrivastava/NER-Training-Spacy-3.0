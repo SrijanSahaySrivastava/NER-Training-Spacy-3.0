{
 "cells": [
  {
   "cell_type": "markdown",
   "id": "ef8b3256",
   "metadata": {},
   "source": [
    "## Train NER with Spacy v3 📣"
   ]
  },
  {
   "cell_type": "markdown",
   "id": "1f4333f7",
   "metadata": {},
   "source": [
    "##### Author : Deepak John Reji"
   ]
  },
  {
   "attachments": {
    "spacy_model.PNG": {
     "image/png": "[encoded data removed]"
    }
   },
   "cell_type": "markdown",
   "id": "3f282d2a",
   "metadata": {},
   "source": [
    "This Notebook details on te steps to train your Custom NER using new spacy format \n",
    "![spacy_model.PNG](attachment:spacy_model.PNG)"
   ]
  },
  {
   "cell_type": "markdown",
   "id": "ec0a2bbd",
   "metadata": {},
   "source": [
    "#### Step-1 : Creation of Training Data"
   ]
  },
  {
   "cell_type": "markdown",
   "id": "30b326dd",
   "metadata": {},
   "source": [
    "#### Annotate your data"
   ]
  },
  {
   "cell_type": "markdown",
   "id": "35e1f5ad",
   "metadata": {},
   "source": [
    "https://prodi.gy/docs/named-entity-recognition"
   ]
  },
  {
   "cell_type": "code",
   "execution_count": null,
   "id": "0437e4d1",
   "metadata": {},
   "outputs": [],
   "source": [
    "TRAIN_DATA = [('The F15 aircraft uses a lot of fuel', {'entities': [(4, 7, 'aircraft')]}),\n",
    " ('did you see the F16 landing?', {'entities': [(16, 19, 'aircraft')]}),\n",
    " ('how many missiles can a F35 carry', {'entities': [(24, 27, 'aircraft')]}),\n",
    " ('is the F15 outdated', {'entities': [(7, 10, 'aircraft')]}),\n",
    " ('does the US still train pilots to dog fight?',\n",
    "  {'entities': [(0, 0, 'aircraft')]}),\n",
    " ('how long does it take to train a F16 pilot',\n",
    "  {'entities': [(33, 36, 'aircraft')]}),\n",
    " ('how much does a F35 cost', {'entities': [(16, 19, 'aircraft')]}),\n",
    " ('would it be possible to steal a F15', {'entities': [(32, 35, 'aircraft')]}),\n",
    " ('who manufactures the F16', {'entities': [(21, 24, 'aircraft')]}),\n",
    " ('how many countries have bought the F35',\n",
    "  {'entities': [(35, 38, 'aircraft')]}),\n",
    " ('is the F35 a waste of money', {'entities': [(7, 10, 'aircraft')]})]"
   ]
  },
  {
   "cell_type": "markdown",
   "id": "14283ec7",
   "metadata": {},
   "source": [
    "    "
   ]
  },
  {
   "cell_type": "markdown",
   "id": "1cdc806a",
   "metadata": {},
   "source": [
    "#### Step-2 : Conversion of Data to .spacy format"
   ]
  },
  {
   "cell_type": "code",
   "execution_count": null,
   "id": "9f7efb21",
   "metadata": {},
   "outputs": [],
   "source": [
    "import pandas as pd\n",
    "from tqdm import tqdm\n",
    "import spacy\n",
    "from spacy.tokens import DocBin\n",
    "\n",
    "nlp = spacy.blank(\"en\") # load a new spacy model\n",
    "#nlp = spacy.load(\"en_core_web_sm\") # load a new spacy model\n",
    "\n",
    "db = DocBin() # create a DocBin object\n",
    "\n",
    "for text, annot in tqdm(TRAIN_DATA): # data in previous format\n",
    "    doc = nlp.make_doc(text) # create doc object from text\n",
    "    ents = []\n",
    "    for start, end, label in annot[\"entities\"]: # add character indexes\n",
    "        span = doc.char_span(start, end, label=label, alignment_mode=\"contract\")\n",
    "        if span is None:\n",
    "            print(\"Skipping entity\")\n",
    "        else:\n",
    "            ents.append(span)\n",
    "    doc.ents = ents # label the text with the ents\n",
    "    db.add(doc)\n",
    "\n",
    "db.to_disk(\"./train.spacy\") # save the docbin object"
   ]
  },
  {
   "cell_type": "code",
   "execution_count": null,
   "id": "e28152d1",
   "metadata": {},
   "outputs": [],
   "source": []
  }
 ],
 "metadata": {
  "kernelspec": {
   "display_name": "Python 3",
   "language": "python",
   "name": "python3"
  },
  "language_info": {
   "codemirror_mode": {
    "name": "ipython",
    "version": 3
   },
   "file_extension": ".py",
   "mimetype": "text/x-python",
   "name": "python",
   "nbconvert_exporter": "python",
   "pygments_lexer": "ipython3",
   "version": "3.7.10"
  }
 },
 "nbformat": 4,
 "nbformat_minor": 5
}
